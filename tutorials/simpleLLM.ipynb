{
 "cells": [
  {
   "cell_type": "markdown",
   "id": "33945397-75e8-4fb0-9490-b9b228ecdbf2",
   "metadata": {},
   "source": [
    "# Build a Simple LLM Application with LCEL"
   ]
  },
  {
   "cell_type": "code",
   "execution_count": 4,
   "id": "cb835235-248f-4791-b09d-3552adc46938",
   "metadata": {},
   "outputs": [
    {
     "name": "stdout",
     "output_type": "stream",
     "text": [
      " ········\n"
     ]
    }
   ],
   "source": [
    "import getpass\n",
    "import os\n",
    "\n",
    "os.environ[\"OPENAI_API_KEY\"] = getpass.getpass()\n",
    "\n",
    "from langchain_openai import ChatOpenAI\n",
    "\n",
    "model = ChatOpenAI(model=\"gpt-3.5-turbo\")"
   ]
  },
  {
   "cell_type": "code",
   "execution_count": 10,
   "id": "1e9523a5-e655-4a76-9a41-b55db91b8a0e",
   "metadata": {},
   "outputs": [],
   "source": [
    "from langchain_core.messages import HumanMessage, SystemMessage\n",
    "\n",
    "messages = [\n",
    "    SystemMessage(content=\"Translate the following from English to Korean\"),\n",
    "    HumanMessage(content=\"I paid 5.5 dollars to use GPT-3.5 API. I am so sad.\")\n",
    "]\n",
    "\n",
    "result = model.invoke(messages)\n",
    "print(result)"
   ]
  },
  {
   "cell_type": "code",
   "execution_count": 11,
   "id": "08c8656c-0a76-4872-acf9-3737ad3da294",
   "metadata": {},
   "outputs": [],
   "source": [
    "from langchain_core.output_parsers import StrOutputParser\n",
    "\n",
    "parser = StrOutputParser()"
   ]
  },
  {
   "cell_type": "code",
   "execution_count": 13,
   "id": "bf1b856a-13a4-4102-a89b-eaf12a4db9da",
   "metadata": {},
   "outputs": [
    {
     "name": "stdout",
     "output_type": "stream",
     "text": [
      "content='제가 GPT-3.5 API를 사용하기 위해 5.5 달러를 지불했어요. 너무 슬퍼요.' response_metadata={'token_usage': {'completion_tokens': 42, 'prompt_tokens': 40, 'total_tokens': 82}, 'model_name': 'gpt-3.5-turbo-0125', 'system_fingerprint': None, 'finish_reason': 'stop', 'logprobs': None} id='run-1fa4d594-ee74-43b2-a28c-e7c05a721f97-0' usage_metadata={'input_tokens': 40, 'output_tokens': 42, 'total_tokens': 82}\n"
     ]
    }
   ],
   "source": [
    "messages = [\n",
    "    SystemMessage(content=\"Translate the following from English to Korean\"),\n",
    "    HumanMessage(content=\"I paid 5.5 dollars to use GPT-3.5 API. I am so sad.\")\n",
    "]\n",
    "\n",
    "result = model.invoke(messages)\n",
    "print(result)"
   ]
  },
  {
   "cell_type": "code",
   "execution_count": 14,
   "id": "dcd9800c-54b3-4c86-a9b3-919fe4d8c16d",
   "metadata": {},
   "outputs": [
    {
     "data": {
      "text/plain": [
       "'제가 GPT-3.5 API를 사용하기 위해 5.5 달러를 지불했어요. 너무 슬퍼요.'"
      ]
     },
     "execution_count": 14,
     "metadata": {},
     "output_type": "execute_result"
    }
   ],
   "source": [
    "parser.invoke(result)"
   ]
  },
  {
   "cell_type": "code",
   "execution_count": 16,
   "id": "f4154e6c-d148-4da0-8608-4a353475584b",
   "metadata": {},
   "outputs": [
    {
     "data": {
      "text/plain": [
       "\"Why do I still want to go home even though I'm already at home?\""
      ]
     },
     "execution_count": 16,
     "metadata": {},
     "output_type": "execute_result"
    }
   ],
   "source": [
    "chain = model | parser\n",
    "messages = [\n",
    "    SystemMessage(content=\"Translate the following from Korean to English\"),\n",
    "    HumanMessage(content=\"집에 있는데도 집에 가고 싶은건 왜일까요?\")\n",
    "]\n",
    "chain.invoke(messages)"
   ]
  },
  {
   "cell_type": "code",
   "execution_count": 17,
   "id": "342ab2da-70e9-44b3-a8a3-4dd94be912de",
   "metadata": {},
   "outputs": [],
   "source": [
    "from langchain_core.prompts import ChatPromptTemplate\n",
    "\n",
    "system_template = \"Translate the following into {language}:\"\n",
    "prompt_template = ChatPromptTemplate.from_messages(\n",
    "    [(\"system\", system_template), (\"user\", \"{text}\")]\n",
    ")"
   ]
  },
  {
   "cell_type": "code",
   "execution_count": 18,
   "id": "8cf4e520-8313-4eac-8883-96e932401336",
   "metadata": {},
   "outputs": [
    {
     "name": "stdout",
     "output_type": "stream",
     "text": [
      "messages=[SystemMessage(content='Translate the following into english:'), HumanMessage(content='삼성 라이온즈 오늘은 이기나요?')]\n"
     ]
    }
   ],
   "source": [
    "result = prompt_template.invoke({\"language\": \"english\", \"text\": \"삼성 라이온즈 오늘은 이기나요?\"})\n",
    "print(result)"
   ]
  },
  {
   "cell_type": "code",
   "execution_count": 19,
   "id": "16543047-c005-4622-9c09-7e3dd7b435ca",
   "metadata": {},
   "outputs": [
    {
     "data": {
      "text/plain": [
       "[SystemMessage(content='Translate the following into english:'),\n",
       " HumanMessage(content='삼성 라이온즈 오늘은 이기나요?')]"
      ]
     },
     "execution_count": 19,
     "metadata": {},
     "output_type": "execute_result"
    }
   ],
   "source": [
    "result.to_messages()"
   ]
  },
  {
   "cell_type": "code",
   "execution_count": 20,
   "id": "2f2a1d12-eee3-40a8-bf87-017acb302275",
   "metadata": {},
   "outputs": [
    {
     "data": {
      "text/plain": [
       "'Will Samsung Lions win today?'"
      ]
     },
     "execution_count": 20,
     "metadata": {},
     "output_type": "execute_result"
    }
   ],
   "source": [
    "chain2 = prompt_template | model | parser\n",
    "chain2.invoke({\"language\": \"english\", \"text\": \"삼성 라이온즈 오늘은 이기나요?\"})"
   ]
  },
  {
   "cell_type": "markdown",
   "id": "2ad8fe92-ebd7-4636-bda3-5e8bb46892eb",
   "metadata": {},
   "source": [
    "## Client"
   ]
  },
  {
   "cell_type": "code",
   "execution_count": 21,
   "id": "a5a07912-f396-4561-bbaa-52ec0a0e949e",
   "metadata": {},
   "outputs": [
    {
     "data": {
      "text/plain": [
       "'Ciao'"
      ]
     },
     "execution_count": 21,
     "metadata": {},
     "output_type": "execute_result"
    }
   ],
   "source": [
    "from langserve import RemoteRunnable\n",
    "\n",
    "remote_chain = RemoteRunnable(\"http://localhost:8000/chain/\")\n",
    "remote_chain.invoke({\"language\": \"italian\", \"text\": \"hi\"})"
   ]
  }
 ],
 "metadata": {
  "kernelspec": {
   "display_name": "langchain",
   "language": "python",
   "name": "langchain"
  },
  "language_info": {
   "codemirror_mode": {
    "name": "ipython",
    "version": 3
   },
   "file_extension": ".py",
   "mimetype": "text/x-python",
   "name": "python",
   "nbconvert_exporter": "python",
   "pygments_lexer": "ipython3",
   "version": "3.12.4"
  }
 },
 "nbformat": 4,
 "nbformat_minor": 5
}
